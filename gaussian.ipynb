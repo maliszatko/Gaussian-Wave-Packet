{
 "cells": [
  {
   "cell_type": "markdown",
   "metadata": {},
   "source": [
    "## Gaussian Wave Packet Simulation\n",
    "\n",
    "This simulation should be used in order to understand parameters with which Gaussian Wave is expressed.\n",
    "\n",
    "\n",
    " *Wave function* in a form of a Gaussian Packet is: \n",
    " \n",
    "  $$\n",
    "  \\psi_\\alpha(x) =\\frac{1}{\\sqrt{\\sigma\\sqrt{\\pi}}}\\exp{[ikx-\\frac{x^2}{2\\sigma^2}]}\n",
    "  $$\n",
    "\n",
    "this can be written in different form:\n",
    "$$\n",
    "  \\psi_\\alpha(x) =\\frac{1}{\\sqrt{\\sigma\\sqrt{\\pi}}}(\\cos{kx}+i\\sin{kx})\\exp[{-\\frac{x^2}{2\\sigma^2}}]\n",
    "$$\n",
    "From this form it is easy to obtain $\\Re$ and $\\Im$ part of a *wave function*.\n",
    "Apparently there are two parameters which determine a way in which function will behave - $\\sigma$ and $k$.\n",
    "This Simulation was made to help understand how these parameters affect Gausian Wave Packet form.\n",
    "To display interactive mode of the code below, just click the [link](https://mybinder.org/v2/gh/maliszatko/Gaussian-Wave-Packet/cf732d070deea25dcda2e3e1a19e6adeebdc60f8)"
   ]
  },
  {
   "cell_type": "code",
   "execution_count": 6,
   "metadata": {},
   "outputs": [
    {
     "data": {
      "text/html": [
       "<script>\n",
       "code_show=true; \n",
       "function code_toggle() {\n",
       " if (code_show){\n",
       " $('div.input').hide();\n",
       " } else {\n",
       " $('div.input').show();\n",
       " }\n",
       " code_show = !code_show\n",
       "} \n",
       "$( document ).ready(code_toggle);\n",
       "</script>\n",
       "The raw code for this IPython notebook is by default hidden for easier reading.\n",
       "To toggle on/off the raw code, click <a href=\"javascript:code_toggle()\">here</a>."
      ],
      "text/plain": [
       "<IPython.core.display.HTML object>"
      ]
     },
     "execution_count": 6,
     "metadata": {},
     "output_type": "execute_result"
    }
   ],
   "source": [
    "\n",
    "from IPython.display import HTML\n",
    "HTML('''<script>\n",
    "code_show=true; \n",
    "function code_toggle() {\n",
    " if (code_show){\n",
    " $('div.input').hide();\n",
    " } else {\n",
    " $('div.input').show();\n",
    " }\n",
    " code_show = !code_show\n",
    "} \n",
    "$( document ).ready(code_toggle);\n",
    "</script>\n",
    "The raw code for this IPython notebook is by default hidden for easier reading.\n",
    "To toggle on/off the raw code, click <a href=\"javascript:code_toggle()\">here</a>.''')"
   ]
  },
  {
   "cell_type": "code",
   "execution_count": 5,
   "metadata": {
    "hide_input": true
   },
   "outputs": [
    {
     "data": {
      "text/html": [
       "        <script type=\"text/javascript\">\n",
       "        window.PlotlyConfig = {MathJaxConfig: 'local'};\n",
       "        if (window.MathJax) {MathJax.Hub.Config({SVG: {font: \"STIX-Web\"}});}\n",
       "        if (typeof require !== 'undefined') {\n",
       "        require.undef(\"plotly\");\n",
       "        requirejs.config({\n",
       "            paths: {\n",
       "                'plotly': ['https://cdn.plot.ly/plotly-latest.min']\n",
       "            }\n",
       "        });\n",
       "        require(['plotly'], function(Plotly) {\n",
       "            window._Plotly = Plotly;\n",
       "        });\n",
       "        }\n",
       "        </script>\n",
       "        "
      ]
     },
     "metadata": {},
     "output_type": "display_data"
    },
    {
     "data": {
      "text/html": [
       "        <script type=\"text/javascript\">\n",
       "        window.PlotlyConfig = {MathJaxConfig: 'local'};\n",
       "        if (window.MathJax) {MathJax.Hub.Config({SVG: {font: \"STIX-Web\"}});}\n",
       "        if (typeof require !== 'undefined') {\n",
       "        require.undef(\"plotly\");\n",
       "        requirejs.config({\n",
       "            paths: {\n",
       "                'plotly': ['https://cdn.plot.ly/plotly-latest.min']\n",
       "            }\n",
       "        });\n",
       "        require(['plotly'], function(Plotly) {\n",
       "            window._Plotly = Plotly;\n",
       "        });\n",
       "        }\n",
       "        </script>\n",
       "        "
      ]
     },
     "metadata": {},
     "output_type": "display_data"
    },
    {
     "data": {
      "application/vnd.jupyter.widget-view+json": {
       "model_id": "2d9aeea0dbdb4f3ba70bbda8fe64040b",
       "version_major": 2,
       "version_minor": 0
      },
      "text/plain": [
       "HBox(children=(FloatSlider(value=1.0, description='k:', max=50.0), FloatSlider(value=1.0, description='sigma:'…"
      ]
     },
     "metadata": {},
     "output_type": "display_data"
    },
    {
     "data": {
      "application/vnd.jupyter.widget-view+json": {
       "model_id": "bc1a2acb65ce47a89578e0353205cdf6",
       "version_major": 2,
       "version_minor": 0
      },
      "text/plain": [
       "FigureWidget({\n",
       "    'data': [{'line': {'color': 'purple', 'width': 5},\n",
       "              'mode': 'lines',\n",
       "         …"
      ]
     },
     "metadata": {},
     "output_type": "display_data"
    }
   ],
   "source": [
    "from IPython.display import HTML\n",
    "import numpy as np\n",
    "import pandas as pd\n",
    "import cufflinks as cf\n",
    "import plotly.graph_objs as go\n",
    "from IPython.display import display, clear_output, Image\n",
    "from plotly.offline import download_plotlyjs, init_notebook_mode, plot, iplot\n",
    "\n",
    "init_notebook_mode(connected=True)\n",
    "cf.go_offline()\n",
    "\n",
    "\n",
    "from ipywidgets import widgets\n",
    "\n",
    "def func1(x,k=1,sig=1):\n",
    "\treturn 1/np.sqrt(sig*np.sqrt(np.pi))*np.sin(k*x)*np.exp(-x*x/(2*sig*sig))\n",
    "\n",
    "def func2(k,x,N):\n",
    "\treturn N*np.cos(k*x)\n",
    "\n",
    "def func3(x,k=1,sig=1):\n",
    "\treturn 1/np.sqrt(sig*np.sqrt(np.pi))*np.exp(-x*x/(2*sig*sig))*np.cos(k*x)\n",
    "\n",
    "def response(change):\n",
    "    y1=func3(x,k.value,sig.value)\n",
    "    z1=func1(x,k.value,sig.value)\n",
    "    with g.batch_update():\n",
    "        g.data[0].y=y1\n",
    "        g.data[0].z=z1\n",
    "    \n",
    "    \n",
    "k=widgets.FloatSlider(description='k:',value=1.0,min=0.0,max=50.0,step=0.1)\n",
    "sig=widgets.FloatSlider(description='sigma:',value=1.0,min=0.01,max=5.0,step=0.01)\n",
    "x=np.linspace(-2,2,10000)\n",
    "y=func3(x,k.value,sig.value)\n",
    "z=func1(x,k.value,sig.value)\n",
    "fig = go.Figure(data=[go.Scatter3d(x=(np.linspace(-2,2,10000)),\n",
    "                   y=(func3(x,k.value,sig.value)),\n",
    "                   z=(func1(x,k.value,sig.value)),\n",
    "                   opacity=1,\n",
    "                   mode='lines',\n",
    "                   line=dict(color='purple',width=5)\n",
    "                   \n",
    "                  )])\n",
    "fig.layout.update(scene = dict(\n",
    "                    xaxis_title='X',\n",
    "                    yaxis_title='Re',\n",
    "                    zaxis_title='Im'))\n",
    "g = go.FigureWidget(fig)\n",
    "\n",
    "k.observe(response,names='value')\n",
    "sig.observe(response,names='value')\n",
    "container2 = widgets.HBox([k, sig])\n",
    "display(container2)\n",
    "display(g)\n"
   ]
  },
  {
   "cell_type": "code",
   "execution_count": null,
   "metadata": {},
   "outputs": [],
   "source": []
  }
 ],
 "metadata": {
  "celltoolbar": "Edit Metadata",
  "kernelspec": {
   "display_name": "Python 3",
   "language": "python",
   "name": "python3"
  },
  "language_info": {
   "codemirror_mode": {
    "name": "ipython",
    "version": 3
   },
   "file_extension": ".py",
   "mimetype": "text/x-python",
   "name": "python",
   "nbconvert_exporter": "python",
   "pygments_lexer": "ipython3",
   "version": "3.7.4"
  }
 },
 "nbformat": 4,
 "nbformat_minor": 2
}
